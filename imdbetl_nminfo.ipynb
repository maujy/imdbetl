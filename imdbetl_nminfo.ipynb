{
 "cells": [
  {
   "cell_type": "code",
   "execution_count": 6,
   "metadata": {
    "collapsed": true
   },
   "outputs": [],
   "source": [
    "import re\n",
    "import csv\n",
    "import pdb\n",
    "\n",
    "import requests \n",
    "from bs4 import BeautifulSoup\n",
    "from pymongo import MongoClient\n",
    "\n",
    "client = MongoClient(\"mongodb://localhost:27017\")\n",
    "db = client.imdb\n",
    "coll = db.test\n",
    "\n",
    "nconst = \"nm0000487\"\n",
    "# nconst = \"nm0000229\"\n",
    "# nconst = \"nm3915784\"\n",
    "# nconst = \"nm4511652\"\n",
    "DOMAIN = \"http://www.imdb.com\"\n",
    "\n",
    "url = DOMAIN + \"/name/\" + nconst\n",
    "resp = requests.get(url)\n",
    "soup = BeautifulSoup(resp.text, 'html5lib')\n",
    "\n",
    "nminfo = {}\n",
    "nminfo['nconst'] = nconst\n",
    "nminfo['STARmeter'] = int((soup.select_one('#meterRank').text.strip().split(\" \"))[-1])\n",
    "nminfo['award']=soup.select_one('span[itemprop=\"awards\"]')\n",
    "if (nminfo['award'] is not None):\n",
    "    nminfo['award']=' '.join(nminfo['award'].text.split())\n",
    "\n",
    "nminfo['filmography'] = []\n",
    "i=0\n",
    "for filmo in soup.find('div', id='jumpto').find_all('a'):\n",
    "    data = {}\n",
    "    data['category'] = filmo[\"data-category\"]\n",
    "    data_id = data['category'] + \"-tt\"\n",
    "    data['titles'] = []\n",
    "    for film in soup.select('div[id^='+data_id+']'):\n",
    "        tconst = film['id'].replace(data['category']+\"-\",\"\")\n",
    "        data['titles'].append(tconst)\n",
    "    nminfo['filmography'].append(data)\n",
    "    i += 1\n",
    "if i==0:\n",
    "    nminfo['filmography'] = None\n",
    "    \n",
    "nminfo['akas']=soup.find('div', id='details-akas')\n",
    "if (nminfo['akas'] is not None):\n",
    "    nminfo['akas'] = nminfo['akas'].text.replace(\" | \",\",\").replace(\"Alternate Names:\",\"\").strip().split(\",\")\n",
    "    \n",
    "result = coll.insert_one(nminfo)\n",
    "client.close()"
   ]
  },
  {
   "cell_type": "code",
   "execution_count": 9,
   "metadata": {},
   "outputs": [],
   "source": [
    "from pymongo import MongoClient\n",
    "\n",
    "client = MongoClient(\"mongodb://localhost:27017\")\n",
    "db = client.imdb\n",
    "coll = db.test\n",
    "cursor = coll.find()\n",
    "for document in cursor:\n",
    "    print(document)\n",
    "client.close()"
   ]
  },
  {
   "cell_type": "code",
   "execution_count": 1,
   "metadata": {
    "collapsed": true
   },
   "outputs": [],
   "source": [
    "import re\n",
    "import csv\n",
    "import pdb\n",
    "\n",
    "import requests \n",
    "from bs4 import BeautifulSoup\n",
    "\n",
    "nconst = \"nm0000487\"\n",
    "# nconst = \"nm0000229\"\n",
    "# nconst = \"nm3915784\"\n",
    "# nconst = \"nm4511652\"\n",
    "DOMAIN = \"http://www.imdb.com\"\n",
    "\n",
    "url = DOMAIN + \"/name/\" + nconst\n",
    "resp = requests.get(url)\n",
    "soup = BeautifulSoup(resp.text, 'html5lib')\n",
    "\n",
    "nminfo = {}\n",
    "nminfo['nconst'] = nconst\n",
    "nminfo['STARmeter'] = int((soup.select_one('#meterRank').text.strip().split(\" \"))[-1])\n",
    "nminfo['award']=soup.select_one('span[itemprop=\"awards\"]')\n",
    "if (nminfo['award'] is not None):\n",
    "    nminfo['award']=' '.join(nminfo['award'].text.strip())\n",
    "\n",
    "nminfo['filmography'] = []\n",
    "i=0\n",
    "for filmo in soup.find('div', id='jumpto').find_all('a', limit=3):\n",
    "    data = {}\n",
    "    data['category'] = filmo[\"data-category\"]\n",
    "    data_id = data['category'] + \"-tt\"\n",
    "    data['titles'] = []\n",
    "    for film in soup.select('div[id^='+data_id+']'):\n",
    "        tconst = film['id'].replace(data['category']+\"-\",\"\")\n",
    "        data['titles'].append(tconst)\n",
    "    nminfo['filmography'].append(data)\n",
    "    i += 1\n",
    "if i==0:\n",
    "    nminfo['filmography'] = None\n",
    "    \n",
    "nminfo['akas']=soup.find('div', id='details-akas')\n",
    "if (nminfo['akas'] is not None):\n",
    "    nminfo['akas'] = nminfo['akas'].text.replace(\" | \",\",\").replace(\"Alternate Names:\",\"\").strip().split(\",\")"
   ]
  },
  {
   "cell_type": "code",
   "execution_count": 2,
   "metadata": {},
   "outputs": [
    {
     "data": {
      "text/plain": [
       "{'STARmeter': 5000,\n",
       " 'akas': ['An Lee', 'An Li'],\n",
       " 'award': 'Won 2 Oscars.',\n",
       " 'filmography': [{'category': 'director',\n",
       "   'titles': ['tt3542810',\n",
       "    'tt2513074',\n",
       "    'tt0454876',\n",
       "    'tt1127896',\n",
       "    'tt0808357',\n",
       "    'tt0388795',\n",
       "    'tt0286716',\n",
       "    'tt4290888',\n",
       "    'tt0283994',\n",
       "    'tt0190332',\n",
       "    'tt0134154',\n",
       "    'tt0119349',\n",
       "    'tt0114388',\n",
       "    'tt0111797',\n",
       "    'tt0107156',\n",
       "    'tt0105652',\n",
       "    'tt3311280']},\n",
       "  {'category': 'producer',\n",
       "   'titles': ['tt3542810',\n",
       "    'tt2513074',\n",
       "    'tt2568204',\n",
       "    'tt0454876',\n",
       "    'tt1127896',\n",
       "    'tt0808357',\n",
       "    'tt0359774',\n",
       "    'tt0190332',\n",
       "    'tt0119349',\n",
       "    'tt0114440',\n",
       "    'tt0107156',\n",
       "    'tt0105652']},\n",
       "  {'category': 'writer',\n",
       "   'titles': ['tt0255653',\n",
       "    'tt0114440',\n",
       "    'tt0111797',\n",
       "    'tt0107156',\n",
       "    'tt0105652']}],\n",
       " 'nconst': 'nm0000487'}"
      ]
     },
     "execution_count": 2,
     "metadata": {},
     "output_type": "execute_result"
    }
   ],
   "source": [
    "nminfo"
   ]
  },
  {
   "cell_type": "code",
   "execution_count": null,
   "metadata": {
    "collapsed": true
   },
   "outputs": [],
   "source": [
    "soup.find('div', id='jumpto').find_all('a', limit=3)"
   ]
  },
  {
   "cell_type": "code",
   "execution_count": null,
   "metadata": {
    "collapsed": true
   },
   "outputs": [],
   "source": [
    "soup.find('div', id='jumpto').find_all('a')[0][\"data-category\"]"
   ]
  },
  {
   "cell_type": "code",
   "execution_count": null,
   "metadata": {
    "collapsed": true
   },
   "outputs": [],
   "source": [
    "soup.select('div[id^=\"director-tt\"]')[0]['id'].replace(\"director-\",\"\")"
   ]
  },
  {
   "cell_type": "code",
   "execution_count": null,
   "metadata": {
    "collapsed": true
   },
   "outputs": [],
   "source": [
    "soup.select_one('#filmo-head-director')"
   ]
  },
  {
   "cell_type": "code",
   "execution_count": 19,
   "metadata": {},
   "outputs": [
    {
     "data": {
      "text/plain": [
       "'Alternate Names:     An Lee | An Li'"
      ]
     },
     "execution_count": 19,
     "metadata": {},
     "output_type": "execute_result"
    }
   ],
   "source": [
    "soup.select_one('div[id=\"details-akas\"]').text.replace(\"\\n        \", \" \").strip()"
   ]
  },
  {
   "cell_type": "code",
   "execution_count": 39,
   "metadata": {},
   "outputs": [
    {
     "data": {
      "text/plain": [
       "[]"
      ]
     },
     "execution_count": 39,
     "metadata": {},
     "output_type": "execute_result"
    }
   ],
   "source": [
    "re.findall(r'(\\w+)<span>|</span>(\\w+)', soup.find('div', id='details-akas').text)"
   ]
  },
  {
   "cell_type": "code",
   "execution_count": 3,
   "metadata": {},
   "outputs": [
    {
     "data": {
      "text/plain": [
       "'\\n            Alternate Names:\\n            An Lee | An Li\\n        '"
      ]
     },
     "execution_count": 3,
     "metadata": {},
     "output_type": "execute_result"
    }
   ],
   "source": [
    "soup.find('div', id='details-akas').text"
   ]
  },
  {
   "cell_type": "code",
   "execution_count": 97,
   "metadata": {},
   "outputs": [
    {
     "data": {
      "text/plain": [
       "['An Lee', 'An Li']"
      ]
     },
     "execution_count": 97,
     "metadata": {},
     "output_type": "execute_result"
    }
   ],
   "source": [
    "soup.find('div', id='details-akas').text.replace(\" | \",\",\").replace(\"Alternate Names:\",\"\").strip().split(\",\")"
   ]
  },
  {
   "cell_type": "code",
   "execution_count": null,
   "metadata": {
    "collapsed": true
   },
   "outputs": [],
   "source": []
  }
 ],
 "metadata": {
  "kernelspec": {
   "display_name": "Python 3",
   "language": "python",
   "name": "python3"
  },
  "language_info": {
   "codemirror_mode": {
    "name": "ipython",
    "version": 3
   },
   "file_extension": ".py",
   "mimetype": "text/x-python",
   "name": "python",
   "nbconvert_exporter": "python",
   "pygments_lexer": "ipython3",
   "version": "3.6.3"
  }
 },
 "nbformat": 4,
 "nbformat_minor": 2
}
