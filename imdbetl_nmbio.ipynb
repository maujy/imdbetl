{
 "cells": [
  {
   "cell_type": "code",
   "execution_count": 39,
   "metadata": {},
   "outputs": [],
   "source": [
    "import re\n",
    "import csv\n",
    "import pandas\n",
    "\n",
    "import requests \n",
    "from bs4 import BeautifulSoup\n",
    "\n",
    "nconst = \"nm0000487\"\n",
    "# nconst = \"nm0000229\"\n",
    "# nconst = \"nm3915784\"\n",
    "# nconst = \"nm4511652\"\n",
    "DOMAIN = \"http://www.imdb.com\"\n",
    "\n",
    "url = DOMAIN + \"/name/\" + nconst + \"/bio\"\n",
    "resp = requests.get(url)\n",
    "soup = BeautifulSoup(resp.text, 'html5lib')\n",
    "\n",
    "biography=soup.find('div', class_='jumpto').find_all('a')\n",
    "if (biography is not None):\n",
    "    nmbio = {}\n",
    "    nmbio['nconst'] = nconst\n",
    "    nmbio['biography'] = []\n",
    "    for bio in biography:\n",
    "        data = {}\n",
    "        category = bio[\"href\"].replace(\"#\",\"\")\n",
    "        tag = soup.find('a', attrs={'name':category}).find_next().find_next()\n",
    "        if (tag.name == \"table\"):\n",
    "            data[category]=[]\n",
    "            for tr in tag.find_all('tr'):\n",
    "                t = {}\n",
    "                k = ' '.join(tr.find_next('td').text.replace(\"\\n\",\"\").split())\n",
    "                v = ' '.join(tr.find_next('td').find_next('td').text.replace(\"\\n\", \"\").split())\n",
    "                t[k] = v\n",
    "                data[category].append(t)\n",
    "        elif (tag.name == \"div\"):\n",
    "            text = \"\"\n",
    "            while (tag.name == \"div\"):\n",
    "                text += ' '.join(tag.text.replace(\"\\n\",\"\").split())\n",
    "                tag = tag.find_next_sibling()\n",
    "            data[category] = text\n",
    "        nmbio['biography'].append(data)"
   ]
  },
  {
   "cell_type": "code",
   "execution_count": 40,
   "metadata": {},
   "outputs": [
    {
     "data": {
      "text/plain": [
       "{'biography': [{'overview': [{'Born': 'October 23, 1954 in Pingtung, Taiwan'},\n",
       "    {'Height': '5\\' 7\" (1.7 m)'}]},\n",
       "  {'mini_bio': 'Born in 1954 in Pingtung, Taiwan, Ang Lee has become one of today\\'s greatest contemporary filmmakers. Ang graduated from the National Taiwan College of Arts in 1975 and then came to the U.S. to receive a B.F.A. Degree in Theatre/Theater Direction at the University of Illinois at Urbana-Champaign, and a Masters Degree in Film Production at New York University. At NYU, he served as Assistant Director on Spike Lee\\'s student film, Joe\\'s Bed-Stuy Barbershop: We Cut Heads (1983). After Lee wrote a couple of screenplays, he eventually appeared on the film scene with Tui shou (1992) (aka Pushing Hands), a dramatic-comedy reflecting on generational conflicts and cultural adaptation, centering on the metaphor of the grandfather\\'s Tai-Chi technique of \"Pushing Hands\". Si yan (1993) (aka The Wedding Banquet) was Lee\\'s next film, an exploration of cultural and generational conflicts through a homosexual Taiwanese man who feigns a marriage in order to satisfy the traditional demands of his Taiwanese parents. It garnered Golden Globe and Oscar nominations, and won a Golden Bear at the Berlin Film Festival. The third movie in his trilogy of Taiwanese-Culture/Generation films, all of them featuring his patriarch figure Sihung Lung, was Yin shi nan nu (1994) (aka Eat Drink Man Woman), which received a Best Foreign Film Oscar nomination. Lee followed this with Sense and Sensibility (1995), his first Hollywood-mainstream movie. It acquired a Best Picture Oscar nomination, and won Best Adapted Screenplay, for the film\\'s screenwriter and lead actress, Emma Thompson. Lee was also voted the year\\'s Best Director by the National Board of Review and the New York Film Critics Circle. Lee and frequent collaborator James Schamus next filmed The Ice Storm (1997), an adaptation of Rick Moody\\'s novel involving 1970s New England suburbia. The movie acquired the 1997 Best Screenplay at Cannes for screenwriter James Schamus, among other accolades. The Civil War drama Ride with the Devil (1999) soon followed and received critical praise, but it was Lee\\'s Wo hu cang long (2000) (aka Crouching Tiger, Hidden Dragon) that is considered one of his greatest works, a sprawling period film and martial-arts epic that dealt with love, loyalty and loss. It swept the Oscar nominations, eventually winning Best Foreign Language Film, as well as Best Director at the Golden Globes, and became the highest grossing foreign-language film ever released in America. Lee then filmed the comic-book adaptation, Hulk (2003) - an elegantly and skillfully made film with nice action scenes. Lee has also shot a short film - Chosen (2001) (aka Hire, The Chosen) - and most recently won the 2005 Best Director Academy Award for Brokeback Mountain (2005), a film based on a short story by Annie Proulx. In 2012 Lee directed Life of Pi which earned 11 Academy Award nominations and went on to win the Academy Award for Best Director. In 2013 Ang Lee was selected as a member of the main competition jury at the 2013 Cannes Film Festival. - IMDb Mini Biography By: Anonymous'},\n",
       "  {'spouse': [{'Jane Lin': '(19 August 1983 - present) (2 children)'}]},\n",
       "  {'trademark': \"Frequently cast actor Sihung Lung as his 'father figure'Some of his films - Sense and Sensibility (1995), Wo hu cang long (2000) (aka Crouching Tiger, Hidden Dragon) - involved repressed women trying to deal with the confines of their society.Outdoor settingsSpectacular, CGI-ladden action scene in service of psychological, intimate dramaHigh diversity of settings in his films, which pain-stakingly depict various international culturesOften depicts characters with conflicting feelings about their sexuality or their gender roles\"},\n",
       "  {'trivia': 'While attending NYU, worked on Joe\\'s Bed-Stuy Barbershop: We Cut Heads (1983), Spike Lee\\'s well-renowned student film.Graduated from Tisch School of the Arts Graduate program.Graduated from the University of Illinois at Urbana-Champaign in 1980 with a Bachelor of Fine Arts Degree in Theater Studies from the Department of Theater.Earned his Masters Degree in Fine Arts from New York University.Turned down an offer to direct Terminator 3: Rise of the Machines (2003).Two sons: Haan (b. 1984) and Mason (b. 1990), both born in Illinois.His movies Si yan (1993), Yin shi nan nu (1994) and Wo hu cang long (2000) were Oscar-nominated for \"Best Foreign Language Film\". Wo hu cang long (2000) won.Father of Mason Lee.Left Taiwan in 1978 to study in the US.A dedicated fan of Calgary Flames hockey team.Taught Kai Wong filmmaking as Montgomery-Fellow-in-Residence at Dartmouth College, an Ivy League college which Meryl Streep once attended.Never storyboards his movies, even visually complex films such has his acclaimed Wo hu cang long (2000) (Crouching Tiger Hidden Dragon).Developed a very strong relationship with Anne Hathaway while filming Brokeback Mountain (2005). It was Ang who persuaded Anne to take the role of Jane Austen in Becoming Jane (2007); having directed Sense and Sensibility (1995) he knew she would be perfect for the role.One of 4 children.Father Sheng Lee died in 2004 at the age of 91. He was the head teacher at Tainan First Senior High School.Is one of only seven living directors who have won the Directors Guild of America Award more than once. The others are Steven Spielberg (3 times) and two-time winners Clint Eastwood, Ron Howard, Francis Coppola, Oliver Stone and Milos Forman. However, Lee is unique in this group and being the only one not to have directed a best picture Oscar winner.Directed 5 actors in Oscar nominated performances: Emma Thompson, Kate Winslet, Heath Ledger, Jake Gyllenhaal, and Michelle Williams.Is one of 8 directors to win the Golden Globe, Director\\'s Guild, BAFTA, and Oscar for the same movie, winning for Brokeback Mountain (2005). The other directors to achieve this are Mike Nichols for The Graduate (1967), Milos Forman for One Flew Over the Cuckoo\\'s Nest (1975), Richard Attenborough for Gandhi (1982), Oliver Stone for Platoon (1986), Steven Spielberg for Schindler\\'s List (1993), Danny Boyle for Pinmin baiwanfuweng (2008), Alfonso Cuarón for Gravity (2013), and Alejandro G. Iñárritu for The Revenant (2015).When he cast Winston Chao as his lead in Si yan (1993), Chao was an airline steward and model and had never acted in a film before. They spent three to four hours every day to teach him how to act. Lee later cast Chao again in Yin shi nan nu (1994).The first recipient of the Academy Award for Best Director who is not Caucasian, i.e. American or European. The second and third are Alfonso Cuarón and Alejandro G. Iñárritu.Because of his directorial work of Life of Pi (2012), the film became the first family film to win the Academy Award for Best Director since Carol Reed for Oliver! (1968) at the 41st Academy Awards in 1969, though others have been nominated: Norman Jewison for Fiddler on the Roof (1971), George Lucas for Star Wars (1977), \\'Steven Spielberg\\' for Raiders of the Lost Ark (1981) and E.T. the Extra-Terrestrial (1982), and Martin Scorsese for Hugo (2011).Was 38 years old when he directed his first feature film.Was a stay at home parent for six years when his film career stalled and his wife was the sole earner in the family.Had planned on changing to a career in Computer Science when his film career stalled, but his wife encouraged him to stick with it.Two of Ang Lee\\'s films, The Ice Storm (1997) and Ride With the Devil (1999), are in the Criterion Collection.He is the first non-white director to win the Academy Award for Best Director.Was in negotiations to direct Terminator Genisys (2015) but a deal could not be reached.Was considered to direct Spider-Man (2002).Only Asian to win a Best Director Oscar, Golden Globe and BAFTA. Along with Alfonso Cuarón and Alejandro G. Iñárritu, he is also one of three non-Caucasian directors to win all three awards for directing.Ang Lee discovered actor Winston Chao and cast him in Si yan (1993) and Yin shi nan nu (1994). In the film Kabali (2016), Chao plays the part of a mob boss whose mentor is named Ang Lee.As of 2017, he has directed 4 films that have been Oscar nominated for Best Picture: Sense and Sensibility (1995), Wo hu cang long (2000), Brokeback Mountain (2005), and Life of Pi (2012).Is to date the only filmmaker to have directed both a Chinese martial arts swashbuckler (_Crouching Tiger Hidden Dragon (2000)_qv) and a superhero film (_Hulk (2003)_qv).'},\n",
       "  {'quotes': '\"Making a martial arts film in English to me is the same as John Wayne speaking Chinese in a western\".It could be the hidden side of you; I think making movies is a great way to release that. I think it is important to be honest with that, and have fun with it.There\\'s a private feeling to the movie, an intimate feeling. I think eventually everybody has a Brokeback Mountain (2005) in them. Someone you want to come back to. And, of course, some people don\\'t come back.American films are less American every day, because you have to please a world audience. There\\'s less authenticity, so it\\'s more accessible.On the receiving side, I think the whole world is more ready, with the Internet, with film festivals and DVDs. It used to be a one-way street from West to East: we were receiving and the West was producing. I think we\\'re getting closer and closer. The gap between cultures is getting erased every day.I\\'m experienced enough to know that the hardest thing to tell is an epic short story; slices of life that add up to an epic feeling.Everywhere can be home and everywhere is not really home and you have to deal with loneliness and alienation. I\\'m old enough to realize that eventually you have to deal with loneliness, anyway. I\\'m happily married, I love my children, but eventually you have to deal with yourself. I trust the elusive world created by movies more than anything else. I\\'m very happy when I\\'m making a movie.Nothing stands still. That\\'s important in my movies. People want to believe in something, want to hang on to something to get security and want to trust each other. But things change. Given enough time, nothing stands still. I think seeking for security and lack of security is another thing in my movies.Every movie I make. That\\'s my hideout, the place I don\\'t quite understand, but feel most at home.My father\\'s family were liquidated during the Cultural Revolution in China because they were landowners. He was the only one to escape. I was born and brought up in Taiwan. But you absorb the trauma. My parents had no sense of security. It was as if the world could turn against them at any moment.I think I find something new in each culture after being away for a bit, and that\\'s creatively important. You can\\'t move forward without changing, and that\\'s why I try to stay open to new perspectives. I want to keep learning. If there\\'s one thing I\\'ve learned, it\\'s that you can never learn enough.I think you look like a fool as a director when you talk too much about what the actors are doing. You want them to listen to you, but personally speaking, I don\\'t want them to just follow everything I say without processing it. This is a problem for Asian actors. They are so polite, and they\\'ve been trained to smile and nod and agree with everything someone in power tells them. I\\'m not looking for conflict, but I\\'m not happy if someone is repressing their feelings either.I was never romantic in real life. That is why I have to make movies about it.I\\'m a drifter and an outsider. There\\'s not one single environment I can totally belong to. My cultural roots are something illusive.Working with Heath was one of the purest joys of my life. He brought to the role of Ennis more than any of us could have imagined - a thirst for life, for love, and for truth, and a vulnerability that made everyone who knew him love him. His death is heartbreaking. - Mourning actor Heath Ledger.[on casting Winston Chao in Si yan (1993)]: It\\'s hard to find a good actor who is charming, speaks English and Mandarin Chinese, and doesn\\'t mind portraying a gay character. - (New York Magazine, August 2, 1993)Sometimes I feel illusions are more of life\\'s essence. I can trust them more that real life that is full of deceit and covering-up.I am not particularly religious. But I think we do face the questions of where God is, why we are created. where does life go, and why we exist. That sort of thing. Call it illusion or call it faith. Whatever you call it we have attachment to the unknown.[on Billy Lynn\\'s Long Halftime Walk (2016)] Our head is still in the film world. Not to put down film in the past, because it\\'s brilliant, I love it. But if we do digital, we ought to do something different, it shouldn\\'t be imitating something else. [2016]'}],\n",
       " 'nconst': 'nm0000487'}"
      ]
     },
     "execution_count": 40,
     "metadata": {},
     "output_type": "execute_result"
    }
   ],
   "source": [
    "nmbio"
   ]
  },
  {
   "cell_type": "code",
   "execution_count": 51,
   "metadata": {},
   "outputs": [
    {
     "data": {
      "text/plain": [
       "0  biography    {'overview': [{'Born': 'October 23, 1954 in Pi...\n",
       "   nconst                                               nm0000487\n",
       "1  biography    {'mini_bio': 'Born in 1954 in Pingtung, Taiwan...\n",
       "   nconst                                               nm0000487\n",
       "2  biography    {'spouse': [{'Jane Lin': '(19 August 1983 - pr...\n",
       "   nconst                                               nm0000487\n",
       "3  biography    {'trademark': 'Frequently cast actor Sihung Lu...\n",
       "   nconst                                               nm0000487\n",
       "4  biography    {'trivia': 'While attending NYU, worked on Joe...\n",
       "   nconst                                               nm0000487\n",
       "5  biography    {'quotes': '\"Making a martial arts film in Eng...\n",
       "   nconst                                               nm0000487\n",
       "dtype: object"
      ]
     },
     "execution_count": 51,
     "metadata": {},
     "output_type": "execute_result"
    }
   ],
   "source": [
    "pandas.DataFrame(nmbio).stack()"
   ]
  },
  {
   "cell_type": "code",
   "execution_count": null,
   "metadata": {
    "collapsed": true
   },
   "outputs": [],
   "source": []
  }
 ],
 "metadata": {
  "kernelspec": {
   "display_name": "Python 3",
   "language": "python",
   "name": "python3"
  },
  "language_info": {
   "codemirror_mode": {
    "name": "ipython",
    "version": 3
   },
   "file_extension": ".py",
   "mimetype": "text/x-python",
   "name": "python",
   "nbconvert_exporter": "python",
   "pygments_lexer": "ipython3",
   "version": "3.6.3"
  }
 },
 "nbformat": 4,
 "nbformat_minor": 2
}
